{
 "cells": [
  {
   "cell_type": "code",
   "execution_count": 1,
   "metadata": {
    "ExecuteTime": {
     "end_time": "2023-06-27T01:42:57.314023163Z",
     "start_time": "2023-06-27T01:42:55.052834220Z"
    }
   },
   "outputs": [],
   "source": [
    "from nalu import NAC, NALU, INALU\n",
    "from utils import train_model, train_inalu_model\n",
    "from torch import nn\n",
    "from torch.utils.data import Dataset, DataLoader\n",
    "from torch import optim\n",
    "import random\n",
    "import torch\n",
    "import pandas as pd\n",
    "import matplotlib.pyplot as plt"
   ]
  },
  {
   "cell_type": "code",
   "execution_count": 2,
   "metadata": {
    "ExecuteTime": {
     "end_time": "2023-06-27T01:42:57.321941687Z",
     "start_time": "2023-06-27T01:42:57.315507211Z"
    }
   },
   "outputs": [],
   "source": [
    "class SyntheticDataset(Dataset):\n",
    "    def __init__(self, X, y):\n",
    "        assert len(X) == len(y)\n",
    "        self.X = X.view(-1, 2)\n",
    "        self.y = y.view(-1, 1)\n",
    "\n",
    "    def __len__(self):\n",
    "        return len(self.X)\n",
    "\n",
    "    def __getitem__(self, idx):\n",
    "        return self.X[idx], self.y[idx]"
   ]
  },
  {
   "cell_type": "code",
   "execution_count": 3,
   "metadata": {
    "ExecuteTime": {
     "end_time": "2023-06-27T01:42:57.328341553Z",
     "start_time": "2023-06-27T01:42:57.322372975Z"
    }
   },
   "outputs": [],
   "source": [
    "DIM = 100\n",
    "NUM_SUM = 5\n",
    "RANGE_TRAIN = [-5, 10]\n",
    "RANGE_TEST = [-10, 15]\n",
    "NUM_TRAIN = 500\n",
    "NUM_TEST = 50"
   ]
  },
  {
   "cell_type": "code",
   "execution_count": 4,
   "metadata": {
    "ExecuteTime": {
     "end_time": "2023-06-27T01:42:57.354517394Z",
     "start_time": "2023-06-27T01:42:57.332601049Z"
    }
   },
   "outputs": [],
   "source": [
    "def generate_data_interpolation(fn):\n",
    "    data = torch.FloatTensor(DIM).uniform_(*RANGE_TRAIN).unsqueeze_(1)\n",
    "    X, y = [], []\n",
    "    for _ in range(NUM_TRAIN + NUM_TEST):\n",
    "        idx_a = random.sample(range(DIM), NUM_SUM)\n",
    "        idx_b = random.sample([x for x in range(DIM) if x not in idx_a], NUM_SUM)\n",
    "        a, b = data[idx_a].sum(), data[idx_b].sum()\n",
    "        X.append([a, b])\n",
    "        y.append(fn(a, b))\n",
    "    X = torch.FloatTensor(X)\n",
    "    y = torch.FloatTensor(y)\n",
    "    X_train, y_train = X[:NUM_TRAIN], y[:NUM_TRAIN]\n",
    "    X_test, y_test = X[NUM_TRAIN:], y[NUM_TRAIN:]\n",
    "    return X_train, y_train, X_test, y_test"
   ]
  },
  {
   "cell_type": "code",
   "execution_count": 5,
   "metadata": {
    "ExecuteTime": {
     "end_time": "2023-06-27T01:42:57.426261231Z",
     "start_time": "2023-06-27T01:42:57.341334993Z"
    }
   },
   "outputs": [],
   "source": [
    "def generate_data_extrapolation(fn):\n",
    "    data = torch.FloatTensor(DIM).uniform_(*RANGE_TRAIN).unsqueeze_(1)\n",
    "    X, y = [], []\n",
    "    for _ in range(NUM_TRAIN):\n",
    "        idx_a = random.sample(range(DIM), NUM_SUM)\n",
    "        idx_b = random.sample([x for x in range(DIM) if x not in idx_a], NUM_SUM)\n",
    "        a, b = data[idx_a].sum(), data[idx_b].sum()\n",
    "        X.append([a, b])\n",
    "        y.append(fn(a, b))\n",
    "    X_train = torch.FloatTensor(X)\n",
    "    y_train = torch.FloatTensor(y)\n",
    "\n",
    "    data = torch.FloatTensor(DIM).uniform_(*RANGE_TEST).unsqueeze_(1)\n",
    "    X, y = [], []\n",
    "    for _ in range(NUM_TEST):\n",
    "        idx_a = random.sample(range(DIM), NUM_SUM)\n",
    "        idx_b = random.sample([x for x in range(DIM) if x not in idx_a], NUM_SUM)\n",
    "        a, b = data[idx_a].sum(), data[idx_b].sum()\n",
    "        X.append([a, b])\n",
    "        y.append(fn(a, b))\n",
    "    X_test = torch.FloatTensor(X)\n",
    "    y_test = torch.FloatTensor(y)\n",
    "\n",
    "    return X_train, y_train, X_test, y_test"
   ]
  },
  {
   "cell_type": "code",
   "execution_count": 6,
   "metadata": {
    "ExecuteTime": {
     "end_time": "2023-06-27T01:42:57.438408985Z",
     "start_time": "2023-06-27T01:42:57.386691269Z"
    }
   },
   "outputs": [],
   "source": [
    "class MLP(nn.Module):\n",
    "    def __init__(self, *args, **kwargs):\n",
    "        super().__init__(*args, **kwargs)\n",
    "        self.model = nn.Sequential(nn.Linear(2, 2),\n",
    "                                   nn.Linear(2, 1))\n",
    "\n",
    "    def forward(self, x):\n",
    "        return self.model(x)"
   ]
  },
  {
   "cell_type": "code",
   "execution_count": 7,
   "metadata": {
    "ExecuteTime": {
     "end_time": "2023-06-27T01:42:57.439516249Z",
     "start_time": "2023-06-27T01:42:57.387868966Z"
    }
   },
   "outputs": [],
   "source": [
    "class MLPReLU6(nn.Module):\n",
    "    def __init__(self, *args, **kwargs):\n",
    "        super().__init__(*args, **kwargs)\n",
    "        self.model = nn.Sequential(nn.Linear(2, 2),\n",
    "                                   nn.ReLU6(),\n",
    "                                   nn.Linear(2, 1))\n",
    "\n",
    "    def forward(self, x):\n",
    "        return self.model(x)"
   ]
  },
  {
   "cell_type": "code",
   "execution_count": 8,
   "metadata": {
    "ExecuteTime": {
     "end_time": "2023-06-27T01:42:57.440289219Z",
     "start_time": "2023-06-27T01:42:57.388911013Z"
    }
   },
   "outputs": [],
   "source": [
    "class NACNet(nn.Module):\n",
    "    def __init__(self, *args, **kwargs):\n",
    "        super().__init__(*args, **kwargs)\n",
    "        self.model = nn.Sequential(NAC(2, 2),\n",
    "                                   NAC(2, 1))\n",
    "\n",
    "    def forward(self, x):\n",
    "        return self.model(x)"
   ]
  },
  {
   "cell_type": "code",
   "execution_count": 9,
   "metadata": {
    "ExecuteTime": {
     "end_time": "2023-06-27T01:42:57.441421763Z",
     "start_time": "2023-06-27T01:42:57.389920731Z"
    }
   },
   "outputs": [],
   "source": [
    "class NALUNet(nn.Module):\n",
    "    def __init__(self, *args, **kwargs):\n",
    "        super().__init__(*args, **kwargs)\n",
    "        self.model = nn.Sequential(NALU(2, 2),\n",
    "                                   NALU(2, 1))\n",
    "\n",
    "    def forward(self, x):\n",
    "        return self.model(x)"
   ]
  },
  {
   "cell_type": "code",
   "execution_count": 10,
   "metadata": {
    "ExecuteTime": {
     "end_time": "2023-06-27T01:42:57.442518865Z",
     "start_time": "2023-06-27T01:42:57.390964711Z"
    }
   },
   "outputs": [],
   "source": [
    "class INALUNet(nn.Module):\n",
    "    def __init__(self, *args, **kwargs):\n",
    "        super().__init__(*args, **kwargs)\n",
    "        self.inalu1 = INALU(2, 2)\n",
    "        self.inalu2 = INALU(2, 1)\n",
    "\n",
    "    def forward(self, x):\n",
    "        x = self.inalu1(x)\n",
    "        return self.inalu2(x)\n",
    "\n",
    "\n",
    "    def reinitialize(self):\n",
    "        self.inalu1.reinitialize()\n",
    "        self.inalu2.reinitialize()\n",
    "\n",
    "    def reg_loss(self):\n",
    "        return self.inalu1.reg_loss() + self.inalu2.reg_loss()"
   ]
  },
  {
   "cell_type": "code",
   "execution_count": 11,
   "metadata": {
    "ExecuteTime": {
     "end_time": "2023-06-27T01:42:57.444712618Z",
     "start_time": "2023-06-27T01:42:57.439067080Z"
    }
   },
   "outputs": [],
   "source": [
    "DEVICE = 'cuda' if torch.cuda.is_available() else 'cpu'\n",
    "def create_models():\n",
    "    return [\n",
    "        (\"MLP\", MLP().to(DEVICE)),\n",
    "        (\"MLPReLU6\", MLPReLU6().to(DEVICE)),\n",
    "        (\"NAC\", NACNet().to(DEVICE)),\n",
    "        (\"NALU\", NALUNet().to(DEVICE)),\n",
    "        (\"INALU\", INALUNet().to(DEVICE))\n",
    "    ]\n",
    "\n",
    "ARITHMETIC_FUNCTIONS = {\n",
    "    'add': lambda x, y: x + y,\n",
    "    'sub': lambda x, y: x - y,\n",
    "    'mul': lambda x, y: x * y,\n",
    "    'mul_neg': lambda x, y: -x * y,\n",
    "    'div': lambda x, y: x / y,\n",
    "    'squared': lambda x, y: torch.pow(x, 2),\n",
    "    'root': lambda x, y: torch.sqrt(torch.abs(x)),\n",
    "}"
   ]
  },
  {
   "cell_type": "code",
   "execution_count": 12,
   "metadata": {
    "ExecuteTime": {
     "end_time": "2023-06-27T01:42:57.500112219Z",
     "start_time": "2023-06-27T01:42:57.447228600Z"
    }
   },
   "outputs": [],
   "source": [
    "def check_function(func_name, generator):\n",
    "    data = generator(ARITHMETIC_FUNCTIONS[func_name])\n",
    "    dataset_train = SyntheticDataset(data[0], data[1])\n",
    "    dataset_test = SyntheticDataset(data[2], data[3])\n",
    "    train_loader = DataLoader(dataset_train, batch_size=64, shuffle=True)\n",
    "    test_loader = DataLoader(dataset_test, batch_size=64, shuffle=True)\n",
    "\n",
    "    interp_result = []\n",
    "    for model_ind, (model_name, model) in enumerate(create_models()):\n",
    "        num_epochs = 700\n",
    "        dataloaders = {'train': train_loader, 'test': test_loader}\n",
    "        criterion = nn.MSELoss()\n",
    "        optimizer = optim.RMSprop(model.parameters(), lr=1e-2)\n",
    "\n",
    "        name = f'{model_name}_{func_name}'\n",
    "        if model_name == 'INALU':\n",
    "            _, train_loss_his, test_loss_his = train_inalu_model(model, dataloaders, criterion, optimizer,\n",
    "                                                    None, num_epochs, DEVICE, name)\n",
    "        else:\n",
    "            _, train_loss_his, test_loss_his = train_model(model, dataloaders, criterion, optimizer,\n",
    "                                                  None, num_epochs, DEVICE, name)\n",
    "\n",
    "        min_loss = float(torch.tensor(test_loss_his).min())\n",
    "        print(model_name, min_loss)\n",
    "        interp_result.append(min_loss)\n",
    "    return interp_result"
   ]
  },
  {
   "cell_type": "code",
   "execution_count": 15,
   "metadata": {
    "ExecuteTime": {
     "start_time": "2023-06-27T01:42:57.481053488Z"
    },
    "is_executing": true
   },
   "outputs": [
    {
     "data": {
      "application/vnd.jupyter.widget-view+json": {
       "model_id": "8484d65ffeb84c1da42229404294b546",
       "version_major": 2,
       "version_minor": 0
      },
      "text/plain": [
       "  0%|          | 0/700 [00:00<?, ?it/s]"
      ]
     },
     "metadata": {},
     "output_type": "display_data"
    },
    {
     "name": "stdout",
     "output_type": "stream",
     "text": [
      "MLP 9.829149348661304e-06\n"
     ]
    },
    {
     "data": {
      "application/vnd.jupyter.widget-view+json": {
       "model_id": "10bc1f5f1c1e4d30b5ba760f20f02e25",
       "version_major": 2,
       "version_minor": 0
      },
      "text/plain": [
       "  0%|          | 0/700 [00:00<?, ?it/s]"
      ]
     },
     "metadata": {},
     "output_type": "display_data"
    },
    {
     "name": "stdout",
     "output_type": "stream",
     "text": [
      "MLPReLU6 0.7062729001045227\n"
     ]
    },
    {
     "data": {
      "application/vnd.jupyter.widget-view+json": {
       "model_id": "3e4c5d8a1083451a9bdf04fbc74dfebb",
       "version_major": 2,
       "version_minor": 0
      },
      "text/plain": [
       "  0%|          | 0/700 [00:00<?, ?it/s]"
      ]
     },
     "metadata": {},
     "output_type": "display_data"
    },
    {
     "name": "stdout",
     "output_type": "stream",
     "text": [
      "NAC 1.164153192248496e-12\n"
     ]
    },
    {
     "data": {
      "application/vnd.jupyter.widget-view+json": {
       "model_id": "63443d7419934dd1856e6a22d6a55a3f",
       "version_major": 2,
       "version_minor": 0
      },
      "text/plain": [
       "  0%|          | 0/700 [00:00<?, ?it/s]"
      ]
     },
     "metadata": {},
     "output_type": "display_data"
    },
    {
     "name": "stdout",
     "output_type": "stream",
     "text": [
      "NALU 1.153696894645691\n"
     ]
    },
    {
     "data": {
      "application/vnd.jupyter.widget-view+json": {
       "model_id": "0ea04aa784dd443b93f16c804ef230fe",
       "version_major": 2,
       "version_minor": 0
      },
      "text/plain": [
       "  0%|          | 0/700 [00:00<?, ?it/s]"
      ]
     },
     "metadata": {},
     "output_type": "display_data"
    },
    {
     "name": "stdout",
     "output_type": "stream",
     "text": [
      "INALU 0.0016753372037783265\n"
     ]
    }
   ],
   "source": [
    "interp_results = []\n",
    "interp_results.append(check_function('add', generate_data_interpolation))"
   ]
  },
  {
   "cell_type": "code",
   "execution_count": 16,
   "metadata": {
    "is_executing": true
   },
   "outputs": [
    {
     "data": {
      "application/vnd.jupyter.widget-view+json": {
       "model_id": "02d7528a19d446759e88d3eb375d8ea2",
       "version_major": 2,
       "version_minor": 0
      },
      "text/plain": [
       "  0%|          | 0/700 [00:00<?, ?it/s]"
      ]
     },
     "metadata": {},
     "output_type": "display_data"
    },
    {
     "name": "stdout",
     "output_type": "stream",
     "text": [
      "MLP 5.779148750661989e-07\n"
     ]
    },
    {
     "data": {
      "application/vnd.jupyter.widget-view+json": {
       "model_id": "e0cfa3a7a2af40fc8f049a2be6bcb23a",
       "version_major": 2,
       "version_minor": 0
      },
      "text/plain": [
       "  0%|          | 0/700 [00:00<?, ?it/s]"
      ]
     },
     "metadata": {},
     "output_type": "display_data"
    },
    {
     "name": "stdout",
     "output_type": "stream",
     "text": [
      "MLPReLU6 0.0399162583053112\n"
     ]
    },
    {
     "data": {
      "application/vnd.jupyter.widget-view+json": {
       "model_id": "0fa777c3e1044abdb13d019766f88773",
       "version_major": 2,
       "version_minor": 0
      },
      "text/plain": [
       "  0%|          | 0/700 [00:00<?, ?it/s]"
      ]
     },
     "metadata": {},
     "output_type": "display_data"
    },
    {
     "name": "stdout",
     "output_type": "stream",
     "text": [
      "NAC 2.3533174649432997e-13\n"
     ]
    },
    {
     "data": {
      "application/vnd.jupyter.widget-view+json": {
       "model_id": "b66c2219223a4d78831afc4f28205298",
       "version_major": 2,
       "version_minor": 0
      },
      "text/plain": [
       "  0%|          | 0/700 [00:00<?, ?it/s]"
      ]
     },
     "metadata": {},
     "output_type": "display_data"
    },
    {
     "name": "stdout",
     "output_type": "stream",
     "text": [
      "NALU 10.48787784576416\n"
     ]
    },
    {
     "data": {
      "application/vnd.jupyter.widget-view+json": {
       "model_id": "49be812ccc0c43e094e6048204be3920",
       "version_major": 2,
       "version_minor": 0
      },
      "text/plain": [
       "  0%|          | 0/700 [00:00<?, ?it/s]"
      ]
     },
     "metadata": {},
     "output_type": "display_data"
    },
    {
     "name": "stdout",
     "output_type": "stream",
     "text": [
      "INALU 0.0011900915997102857\n"
     ]
    }
   ],
   "source": [
    "res = check_function('sub', generate_data_interpolation)\n",
    "interp_results.append(res)"
   ]
  },
  {
   "cell_type": "code",
   "execution_count": 17,
   "metadata": {
    "is_executing": true
   },
   "outputs": [
    {
     "data": {
      "application/vnd.jupyter.widget-view+json": {
       "model_id": "1c05163231644ad08191f8984c5f2ddd",
       "version_major": 2,
       "version_minor": 0
      },
      "text/plain": [
       "  0%|          | 0/700 [00:00<?, ?it/s]"
      ]
     },
     "metadata": {},
     "output_type": "display_data"
    },
    {
     "name": "stdout",
     "output_type": "stream",
     "text": [
      "MLP 5548.12841796875\n"
     ]
    },
    {
     "data": {
      "application/vnd.jupyter.widget-view+json": {
       "model_id": "40603af500f549728f2eeb11fcc50c5c",
       "version_major": 2,
       "version_minor": 0
      },
      "text/plain": [
       "  0%|          | 0/700 [00:00<?, ?it/s]"
      ]
     },
     "metadata": {},
     "output_type": "display_data"
    },
    {
     "name": "stdout",
     "output_type": "stream",
     "text": [
      "MLPReLU6 16035.5322265625\n"
     ]
    },
    {
     "data": {
      "application/vnd.jupyter.widget-view+json": {
       "model_id": "0af5e087f1554401a8704b7aa3a04290",
       "version_major": 2,
       "version_minor": 0
      },
      "text/plain": [
       "  0%|          | 0/700 [00:00<?, ?it/s]"
      ]
     },
     "metadata": {},
     "output_type": "display_data"
    },
    {
     "name": "stdout",
     "output_type": "stream",
     "text": [
      "NAC 15436.111328125\n"
     ]
    },
    {
     "data": {
      "application/vnd.jupyter.widget-view+json": {
       "model_id": "8314fa0492a1499993f986129e1603f8",
       "version_major": 2,
       "version_minor": 0
      },
      "text/plain": [
       "  0%|          | 0/700 [00:00<?, ?it/s]"
      ]
     },
     "metadata": {},
     "output_type": "display_data"
    },
    {
     "name": "stdout",
     "output_type": "stream",
     "text": [
      "NALU 852.943115234375\n"
     ]
    },
    {
     "data": {
      "application/vnd.jupyter.widget-view+json": {
       "model_id": "9299aafee9874e769a3fd6c9920c7e65",
       "version_major": 2,
       "version_minor": 0
      },
      "text/plain": [
       "  0%|          | 0/700 [00:00<?, ?it/s]"
      ]
     },
     "metadata": {},
     "output_type": "display_data"
    },
    {
     "name": "stdout",
     "output_type": "stream",
     "text": [
      "INALU 0.0015692510642111301\n"
     ]
    }
   ],
   "source": [
    "res = check_function('mul', generate_data_interpolation)\n",
    "interp_results.append(res)"
   ]
  },
  {
   "cell_type": "code",
   "execution_count": 18,
   "metadata": {
    "is_executing": true
   },
   "outputs": [
    {
     "data": {
      "application/vnd.jupyter.widget-view+json": {
       "model_id": "abf2089b78f84e959b4d0ae1a792f72d",
       "version_major": 2,
       "version_minor": 0
      },
      "text/plain": [
       "  0%|          | 0/700 [00:00<?, ?it/s]"
      ]
     },
     "metadata": {},
     "output_type": "display_data"
    },
    {
     "name": "stdout",
     "output_type": "stream",
     "text": [
      "MLP 8699.7119140625\n"
     ]
    },
    {
     "data": {
      "application/vnd.jupyter.widget-view+json": {
       "model_id": "60d9e92b8efe48408b375dc85c0ee027",
       "version_major": 2,
       "version_minor": 0
      },
      "text/plain": [
       "  0%|          | 0/700 [00:00<?, ?it/s]"
      ]
     },
     "metadata": {},
     "output_type": "display_data"
    },
    {
     "name": "stdout",
     "output_type": "stream",
     "text": [
      "MLPReLU6 8212.140625\n"
     ]
    },
    {
     "data": {
      "application/vnd.jupyter.widget-view+json": {
       "model_id": "8ce0482c311a41b4847ab8f759dad15e",
       "version_major": 2,
       "version_minor": 0
      },
      "text/plain": [
       "  0%|          | 0/700 [00:00<?, ?it/s]"
      ]
     },
     "metadata": {},
     "output_type": "display_data"
    },
    {
     "name": "stdout",
     "output_type": "stream",
     "text": [
      "NAC 26616.609375\n"
     ]
    },
    {
     "data": {
      "application/vnd.jupyter.widget-view+json": {
       "model_id": "4e65c38f966046e782c86d2b407d7a77",
       "version_major": 2,
       "version_minor": 0
      },
      "text/plain": [
       "  0%|          | 0/700 [00:00<?, ?it/s]"
      ]
     },
     "metadata": {},
     "output_type": "display_data"
    },
    {
     "name": "stdout",
     "output_type": "stream",
     "text": [
      "NALU 3232.18701171875\n"
     ]
    },
    {
     "data": {
      "application/vnd.jupyter.widget-view+json": {
       "model_id": "97a7963189934327910ec519aed23f85",
       "version_major": 2,
       "version_minor": 0
      },
      "text/plain": [
       "  0%|          | 0/700 [00:00<?, ?it/s]"
      ]
     },
     "metadata": {},
     "output_type": "display_data"
    },
    {
     "name": "stdout",
     "output_type": "stream",
     "text": [
      "INALU 1.607330322265625\n"
     ]
    }
   ],
   "source": [
    "res = check_function('mul_neg', generate_data_interpolation)\n",
    "interp_results.append(res)"
   ]
  },
  {
   "cell_type": "code",
   "execution_count": 19,
   "metadata": {
    "is_executing": true
   },
   "outputs": [
    {
     "data": {
      "application/vnd.jupyter.widget-view+json": {
       "model_id": "d9b255cd4df34942bd13603d359739b8",
       "version_major": 2,
       "version_minor": 0
      },
      "text/plain": [
       "  0%|          | 0/700 [00:00<?, ?it/s]"
      ]
     },
     "metadata": {},
     "output_type": "display_data"
    },
    {
     "name": "stdout",
     "output_type": "stream",
     "text": [
      "MLP 82.71844482421875\n"
     ]
    },
    {
     "data": {
      "application/vnd.jupyter.widget-view+json": {
       "model_id": "a21098c3b3ad4723a64d7c63ff22d687",
       "version_major": 2,
       "version_minor": 0
      },
      "text/plain": [
       "  0%|          | 0/700 [00:00<?, ?it/s]"
      ]
     },
     "metadata": {},
     "output_type": "display_data"
    },
    {
     "name": "stdout",
     "output_type": "stream",
     "text": [
      "MLPReLU6 17.342254638671875\n"
     ]
    },
    {
     "data": {
      "application/vnd.jupyter.widget-view+json": {
       "model_id": "b97f396dc0f3482c92f4a61b084fad67",
       "version_major": 2,
       "version_minor": 0
      },
      "text/plain": [
       "  0%|          | 0/700 [00:00<?, ?it/s]"
      ]
     },
     "metadata": {},
     "output_type": "display_data"
    },
    {
     "name": "stdout",
     "output_type": "stream",
     "text": [
      "NAC 86.12367248535156\n"
     ]
    },
    {
     "data": {
      "application/vnd.jupyter.widget-view+json": {
       "model_id": "f04b8db7ce104bd49227d4c21c9daecf",
       "version_major": 2,
       "version_minor": 0
      },
      "text/plain": [
       "  0%|          | 0/700 [00:00<?, ?it/s]"
      ]
     },
     "metadata": {},
     "output_type": "display_data"
    },
    {
     "name": "stdout",
     "output_type": "stream",
     "text": [
      "NALU 67.85159301757812\n"
     ]
    },
    {
     "data": {
      "application/vnd.jupyter.widget-view+json": {
       "model_id": "2366de53131948faa357db77bf9bd5ca",
       "version_major": 2,
       "version_minor": 0
      },
      "text/plain": [
       "  0%|          | 0/700 [00:00<?, ?it/s]"
      ]
     },
     "metadata": {},
     "output_type": "display_data"
    },
    {
     "name": "stdout",
     "output_type": "stream",
     "text": [
      "INALU 82.26152038574219\n"
     ]
    }
   ],
   "source": [
    "res = check_function('div', generate_data_interpolation)\n",
    "interp_results.append(res)"
   ]
  },
  {
   "cell_type": "code",
   "execution_count": 20,
   "metadata": {
    "is_executing": true
   },
   "outputs": [
    {
     "data": {
      "application/vnd.jupyter.widget-view+json": {
       "model_id": "c80e57fa6ded4b16953e3aba8e0feff4",
       "version_major": 2,
       "version_minor": 0
      },
      "text/plain": [
       "  0%|          | 0/700 [00:00<?, ?it/s]"
      ]
     },
     "metadata": {},
     "output_type": "display_data"
    },
    {
     "name": "stdout",
     "output_type": "stream",
     "text": [
      "MLP 24634.0078125\n"
     ]
    },
    {
     "data": {
      "application/vnd.jupyter.widget-view+json": {
       "model_id": "4cfdb084b67447f2b37ddcabeba33b45",
       "version_major": 2,
       "version_minor": 0
      },
      "text/plain": [
       "  0%|          | 0/700 [00:00<?, ?it/s]"
      ]
     },
     "metadata": {},
     "output_type": "display_data"
    },
    {
     "name": "stdout",
     "output_type": "stream",
     "text": [
      "MLPReLU6 7722.87158203125\n"
     ]
    },
    {
     "data": {
      "application/vnd.jupyter.widget-view+json": {
       "model_id": "77461a5df30240f8b391598f79fd2f1e",
       "version_major": 2,
       "version_minor": 0
      },
      "text/plain": [
       "  0%|          | 0/700 [00:00<?, ?it/s]"
      ]
     },
     "metadata": {},
     "output_type": "display_data"
    },
    {
     "name": "stdout",
     "output_type": "stream",
     "text": [
      "NAC 121214.4609375\n"
     ]
    },
    {
     "data": {
      "application/vnd.jupyter.widget-view+json": {
       "model_id": "e8a58a1ed1ab45f4b6ba3958b9e5010a",
       "version_major": 2,
       "version_minor": 0
      },
      "text/plain": [
       "  0%|          | 0/700 [00:00<?, ?it/s]"
      ]
     },
     "metadata": {},
     "output_type": "display_data"
    },
    {
     "name": "stdout",
     "output_type": "stream",
     "text": [
      "NALU 1289.3287353515625\n"
     ]
    },
    {
     "data": {
      "application/vnd.jupyter.widget-view+json": {
       "model_id": "196a9c08ee51469b9faf0443998f8bed",
       "version_major": 2,
       "version_minor": 0
      },
      "text/plain": [
       "  0%|          | 0/700 [00:00<?, ?it/s]"
      ]
     },
     "metadata": {},
     "output_type": "display_data"
    },
    {
     "name": "stdout",
     "output_type": "stream",
     "text": [
      "INALU 0.0016088738339021802\n"
     ]
    }
   ],
   "source": [
    "res = check_function('squared', generate_data_interpolation)\n",
    "interp_results.append(res)"
   ]
  },
  {
   "cell_type": "code",
   "execution_count": 21,
   "metadata": {
    "is_executing": true
   },
   "outputs": [
    {
     "data": {
      "application/vnd.jupyter.widget-view+json": {
       "model_id": "b0911904547142e292e56d00965cbea2",
       "version_major": 2,
       "version_minor": 0
      },
      "text/plain": [
       "  0%|          | 0/700 [00:00<?, ?it/s]"
      ]
     },
     "metadata": {},
     "output_type": "display_data"
    },
    {
     "name": "stdout",
     "output_type": "stream",
     "text": [
      "MLP 0.15651340782642365\n"
     ]
    },
    {
     "data": {
      "application/vnd.jupyter.widget-view+json": {
       "model_id": "5154201f5621484393cba51d9e9cf668",
       "version_major": 2,
       "version_minor": 0
      },
      "text/plain": [
       "  0%|          | 0/700 [00:00<?, ?it/s]"
      ]
     },
     "metadata": {},
     "output_type": "display_data"
    },
    {
     "name": "stdout",
     "output_type": "stream",
     "text": [
      "MLPReLU6 0.06803086400032043\n"
     ]
    },
    {
     "data": {
      "application/vnd.jupyter.widget-view+json": {
       "model_id": "6cd0b9c2925649ae8a5d24a7dc3fea10",
       "version_major": 2,
       "version_minor": 0
      },
      "text/plain": [
       "  0%|          | 0/700 [00:00<?, ?it/s]"
      ]
     },
     "metadata": {},
     "output_type": "display_data"
    },
    {
     "name": "stdout",
     "output_type": "stream",
     "text": [
      "NAC 0.951472818851471\n"
     ]
    },
    {
     "data": {
      "application/vnd.jupyter.widget-view+json": {
       "model_id": "65576fbbe9e14d958a4795f8f12b4743",
       "version_major": 2,
       "version_minor": 0
      },
      "text/plain": [
       "  0%|          | 0/700 [00:00<?, ?it/s]"
      ]
     },
     "metadata": {},
     "output_type": "display_data"
    },
    {
     "name": "stdout",
     "output_type": "stream",
     "text": [
      "NALU 1.4578239643014967e-05\n"
     ]
    },
    {
     "data": {
      "application/vnd.jupyter.widget-view+json": {
       "model_id": "31c7ee3d221147a7b3c6c4a205eb678a",
       "version_major": 2,
       "version_minor": 0
      },
      "text/plain": [
       "  0%|          | 0/700 [00:00<?, ?it/s]"
      ]
     },
     "metadata": {},
     "output_type": "display_data"
    },
    {
     "name": "stdout",
     "output_type": "stream",
     "text": [
      "INALU 0.16032104194164276\n"
     ]
    }
   ],
   "source": [
    "res = check_function('root', generate_data_interpolation)\n",
    "interp_results.append(res)"
   ]
  },
  {
   "cell_type": "code",
   "execution_count": 32,
   "metadata": {
    "ExecuteTime": {
     "end_time": "2023-06-27T01:00:24.869699786Z",
     "start_time": "2023-06-27T00:58:38.108788212Z"
    }
   },
   "outputs": [
    {
     "data": {
      "application/vnd.jupyter.widget-view+json": {
       "model_id": "62bd50fc80a240e7833f63051c3695df",
       "version_major": 2,
       "version_minor": 0
      },
      "text/plain": [
       "  0%|          | 0/700 [00:00<?, ?it/s]"
      ]
     },
     "metadata": {},
     "output_type": "display_data"
    },
    {
     "name": "stdout",
     "output_type": "stream",
     "text": [
      "MLP 7.860350592636678e-09\n"
     ]
    },
    {
     "data": {
      "application/vnd.jupyter.widget-view+json": {
       "model_id": "bd3e00be3f664d4997351a71a443ece3",
       "version_major": 2,
       "version_minor": 0
      },
      "text/plain": [
       "  0%|          | 0/700 [00:00<?, ?it/s]"
      ]
     },
     "metadata": {},
     "output_type": "display_data"
    },
    {
     "name": "stdout",
     "output_type": "stream",
     "text": [
      "MLPReLU6 43.48899841308594\n"
     ]
    },
    {
     "data": {
      "application/vnd.jupyter.widget-view+json": {
       "model_id": "9e0358f62c544c34ac59ecd4ad34cdd2",
       "version_major": 2,
       "version_minor": 0
      },
      "text/plain": [
       "  0%|          | 0/700 [00:00<?, ?it/s]"
      ]
     },
     "metadata": {},
     "output_type": "display_data"
    },
    {
     "name": "stdout",
     "output_type": "stream",
     "text": [
      "NAC 7.685229948088679e-13\n"
     ]
    },
    {
     "data": {
      "application/vnd.jupyter.widget-view+json": {
       "model_id": "68878a707bbb4c5ba43295783440e8c6",
       "version_major": 2,
       "version_minor": 0
      },
      "text/plain": [
       "  0%|          | 0/700 [00:00<?, ?it/s]"
      ]
     },
     "metadata": {},
     "output_type": "display_data"
    },
    {
     "name": "stdout",
     "output_type": "stream",
     "text": [
      "NALU 17.86178970336914\n"
     ]
    },
    {
     "data": {
      "application/vnd.jupyter.widget-view+json": {
       "model_id": "63f1c4d8529149f9a2f3fdcfc7a6b246",
       "version_major": 2,
       "version_minor": 0
      },
      "text/plain": [
       "  0%|          | 0/700 [00:00<?, ?it/s]"
      ]
     },
     "metadata": {},
     "output_type": "display_data"
    },
    {
     "name": "stdout",
     "output_type": "stream",
     "text": [
      "INALU 0.0014470197493210435\n"
     ]
    }
   ],
   "source": [
    "extr_results = []\n",
    "extr_results.append(check_function('add', generate_data_extrapolation))"
   ]
  },
  {
   "cell_type": "code",
   "execution_count": 21,
   "metadata": {
    "ExecuteTime": {
     "end_time": "2023-06-27T01:02:11.699902068Z",
     "start_time": "2023-06-27T01:00:24.871438858Z"
    }
   },
   "outputs": [
    {
     "data": {
      "application/vnd.jupyter.widget-view+json": {
       "model_id": "6ac68ccbe4e9462b9737210ba0747041",
       "version_major": 2,
       "version_minor": 0
      },
      "text/plain": [
       "  0%|          | 0/700 [00:00<?, ?it/s]"
      ]
     },
     "metadata": {},
     "output_type": "display_data"
    },
    {
     "name": "stdout",
     "output_type": "stream",
     "text": [
      "MLP 1.1195002116437536e-06\n"
     ]
    },
    {
     "data": {
      "application/vnd.jupyter.widget-view+json": {
       "model_id": "3c86172e9ef74b96b2b5bbe65ce2ae03",
       "version_major": 2,
       "version_minor": 0
      },
      "text/plain": [
       "  0%|          | 0/700 [00:00<?, ?it/s]"
      ]
     },
     "metadata": {},
     "output_type": "display_data"
    },
    {
     "name": "stdout",
     "output_type": "stream",
     "text": [
      "MLPReLU6 8.87283706665039\n"
     ]
    },
    {
     "data": {
      "application/vnd.jupyter.widget-view+json": {
       "model_id": "431c14fa19ad44a8bd3cc7f374f92dbb",
       "version_major": 2,
       "version_minor": 0
      },
      "text/plain": [
       "  0%|          | 0/700 [00:00<?, ?it/s]"
      ]
     },
     "metadata": {},
     "output_type": "display_data"
    },
    {
     "name": "stdout",
     "output_type": "stream",
     "text": [
      "NAC 3.548450324807745e-13\n"
     ]
    },
    {
     "data": {
      "application/vnd.jupyter.widget-view+json": {
       "model_id": "0ec2e37673954978bc97bcff4c8cfaf3",
       "version_major": 2,
       "version_minor": 0
      },
      "text/plain": [
       "  0%|          | 0/700 [00:00<?, ?it/s]"
      ]
     },
     "metadata": {},
     "output_type": "display_data"
    },
    {
     "name": "stdout",
     "output_type": "stream",
     "text": [
      "NALU 35.97146987915039\n"
     ]
    },
    {
     "data": {
      "application/vnd.jupyter.widget-view+json": {
       "model_id": "1d064cb0d6024b11a5d7fe4e9889247d",
       "version_major": 2,
       "version_minor": 0
      },
      "text/plain": [
       "  0%|          | 0/700 [00:00<?, ?it/s]"
      ]
     },
     "metadata": {},
     "output_type": "display_data"
    },
    {
     "name": "stdout",
     "output_type": "stream",
     "text": [
      "INALU 0.00023707430227659643\n"
     ]
    }
   ],
   "source": [
    "res = check_function('sub', generate_data_extrapolation)\n",
    "extr_results.append(res)"
   ]
  },
  {
   "cell_type": "code",
   "execution_count": 24,
   "metadata": {
    "ExecuteTime": {
     "end_time": "2023-06-27T01:03:55.620541277Z",
     "start_time": "2023-06-27T01:02:11.696753587Z"
    }
   },
   "outputs": [
    {
     "data": {
      "application/vnd.jupyter.widget-view+json": {
       "model_id": "046d3b32b5ac4a94ab774d1501fb85e4",
       "version_major": 2,
       "version_minor": 0
      },
      "text/plain": [
       "  0%|          | 0/700 [00:00<?, ?it/s]"
      ]
     },
     "metadata": {},
     "output_type": "display_data"
    },
    {
     "name": "stdout",
     "output_type": "stream",
     "text": [
      "MLP 71244.9296875\n"
     ]
    },
    {
     "data": {
      "application/vnd.jupyter.widget-view+json": {
       "model_id": "d567a4b6fc6e45b3865e08cb00c6f843",
       "version_major": 2,
       "version_minor": 0
      },
      "text/plain": [
       "  0%|          | 0/700 [00:00<?, ?it/s]"
      ]
     },
     "metadata": {},
     "output_type": "display_data"
    },
    {
     "name": "stdout",
     "output_type": "stream",
     "text": [
      "MLPReLU6 54325.22265625\n"
     ]
    },
    {
     "data": {
      "application/vnd.jupyter.widget-view+json": {
       "model_id": "5f458b8b02844d59a8272007397b873a",
       "version_major": 2,
       "version_minor": 0
      },
      "text/plain": [
       "  0%|          | 0/700 [00:00<?, ?it/s]"
      ]
     },
     "metadata": {},
     "output_type": "display_data"
    },
    {
     "name": "stdout",
     "output_type": "stream",
     "text": [
      "NAC 74272.1953125\n"
     ]
    },
    {
     "data": {
      "application/vnd.jupyter.widget-view+json": {
       "model_id": "8f9b19f2129c468aaf0cdc3a1c5c6f15",
       "version_major": 2,
       "version_minor": 0
      },
      "text/plain": [
       "  0%|          | 0/700 [00:00<?, ?it/s]"
      ]
     },
     "metadata": {},
     "output_type": "display_data"
    },
    {
     "name": "stdout",
     "output_type": "stream",
     "text": [
      "NALU 33298.88671875\n"
     ]
    },
    {
     "data": {
      "application/vnd.jupyter.widget-view+json": {
       "model_id": "4a9eba7532a8475c92a090ba81eeca9c",
       "version_major": 2,
       "version_minor": 0
      },
      "text/plain": [
       "  0%|          | 0/700 [00:00<?, ?it/s]"
      ]
     },
     "metadata": {},
     "output_type": "display_data"
    },
    {
     "name": "stdout",
     "output_type": "stream",
     "text": [
      "INALU 1.5117969098810136e-08\n"
     ]
    }
   ],
   "source": [
    "res = check_function('mul', generate_data_extrapolation)\n",
    "extr_results.append(res)"
   ]
  },
  {
   "cell_type": "code",
   "execution_count": 35,
   "metadata": {
    "ExecuteTime": {
     "end_time": "2023-06-27T01:05:36.219057019Z",
     "start_time": "2023-06-27T01:03:55.620315066Z"
    }
   },
   "outputs": [
    {
     "data": {
      "application/vnd.jupyter.widget-view+json": {
       "model_id": "2450fcc6525144c5b7d39134dfefb122",
       "version_major": 2,
       "version_minor": 0
      },
      "text/plain": [
       "  0%|          | 0/700 [00:00<?, ?it/s]"
      ]
     },
     "metadata": {},
     "output_type": "display_data"
    },
    {
     "name": "stdout",
     "output_type": "stream",
     "text": [
      "MLP 49386.30078125\n"
     ]
    },
    {
     "data": {
      "application/vnd.jupyter.widget-view+json": {
       "model_id": "477eed39a40a443d91e0fa2c44045d7a",
       "version_major": 2,
       "version_minor": 0
      },
      "text/plain": [
       "  0%|          | 0/700 [00:00<?, ?it/s]"
      ]
     },
     "metadata": {},
     "output_type": "display_data"
    },
    {
     "name": "stdout",
     "output_type": "stream",
     "text": [
      "MLPReLU6 36491.5\n"
     ]
    },
    {
     "data": {
      "application/vnd.jupyter.widget-view+json": {
       "model_id": "baef984d43b54e5181219d968d79792b",
       "version_major": 2,
       "version_minor": 0
      },
      "text/plain": [
       "  0%|          | 0/700 [00:00<?, ?it/s]"
      ]
     },
     "metadata": {},
     "output_type": "display_data"
    },
    {
     "name": "stdout",
     "output_type": "stream",
     "text": [
      "NAC 75911.4296875\n"
     ]
    },
    {
     "data": {
      "application/vnd.jupyter.widget-view+json": {
       "model_id": "bbc7aa27ec9047f7b2562554d6111f3e",
       "version_major": 2,
       "version_minor": 0
      },
      "text/plain": [
       "  0%|          | 0/700 [00:00<?, ?it/s]"
      ]
     },
     "metadata": {},
     "output_type": "display_data"
    },
    {
     "name": "stdout",
     "output_type": "stream",
     "text": [
      "NALU 19887.525390625\n"
     ]
    },
    {
     "data": {
      "application/vnd.jupyter.widget-view+json": {
       "model_id": "4bdffd7c2e944e3eb4335122c93bc6e0",
       "version_major": 2,
       "version_minor": 0
      },
      "text/plain": [
       "  0%|          | 0/700 [00:00<?, ?it/s]"
      ]
     },
     "metadata": {},
     "output_type": "display_data"
    },
    {
     "name": "stdout",
     "output_type": "stream",
     "text": [
      "INALU 2.5017786811076803e-06\n"
     ]
    }
   ],
   "source": [
    "res = check_function('mul_neg', generate_data_extrapolation)\n",
    "extr_results.append(res)"
   ]
  },
  {
   "cell_type": "code",
   "execution_count": 36,
   "metadata": {
    "ExecuteTime": {
     "end_time": "2023-06-27T01:07:16.528291361Z",
     "start_time": "2023-06-27T01:05:36.217000955Z"
    }
   },
   "outputs": [
    {
     "data": {
      "application/vnd.jupyter.widget-view+json": {
       "model_id": "8cc75fae5755412e8d37a8d587c9f372",
       "version_major": 2,
       "version_minor": 0
      },
      "text/plain": [
       "  0%|          | 0/700 [00:00<?, ?it/s]"
      ]
     },
     "metadata": {},
     "output_type": "display_data"
    },
    {
     "name": "stdout",
     "output_type": "stream",
     "text": [
      "MLP 1343.95263671875\n"
     ]
    },
    {
     "data": {
      "application/vnd.jupyter.widget-view+json": {
       "model_id": "1d0823dd854e4af6b51de0680abd8350",
       "version_major": 2,
       "version_minor": 0
      },
      "text/plain": [
       "  0%|          | 0/700 [00:00<?, ?it/s]"
      ]
     },
     "metadata": {},
     "output_type": "display_data"
    },
    {
     "name": "stdout",
     "output_type": "stream",
     "text": [
      "MLPReLU6 1373.087158203125\n"
     ]
    },
    {
     "data": {
      "application/vnd.jupyter.widget-view+json": {
       "model_id": "f32259d836084eb88650172a4cfdd53e",
       "version_major": 2,
       "version_minor": 0
      },
      "text/plain": [
       "  0%|          | 0/700 [00:00<?, ?it/s]"
      ]
     },
     "metadata": {},
     "output_type": "display_data"
    },
    {
     "name": "stdout",
     "output_type": "stream",
     "text": [
      "NAC 1347.36279296875\n"
     ]
    },
    {
     "data": {
      "application/vnd.jupyter.widget-view+json": {
       "model_id": "7581c805885e40269da9765a02e1d74d",
       "version_major": 2,
       "version_minor": 0
      },
      "text/plain": [
       "  0%|          | 0/700 [00:00<?, ?it/s]"
      ]
     },
     "metadata": {},
     "output_type": "display_data"
    },
    {
     "name": "stdout",
     "output_type": "stream",
     "text": [
      "NALU 1392.420654296875\n"
     ]
    },
    {
     "data": {
      "application/vnd.jupyter.widget-view+json": {
       "model_id": "09e45bbca4a94ea195873e2a33dd34f5",
       "version_major": 2,
       "version_minor": 0
      },
      "text/plain": [
       "  0%|          | 0/700 [00:00<?, ?it/s]"
      ]
     },
     "metadata": {},
     "output_type": "display_data"
    },
    {
     "name": "stdout",
     "output_type": "stream",
     "text": [
      "INALU 1295.3865966796875\n"
     ]
    }
   ],
   "source": [
    "res = check_function('div', generate_data_extrapolation)\n",
    "extr_results.append(res)"
   ]
  },
  {
   "cell_type": "code",
   "execution_count": 26,
   "metadata": {
    "ExecuteTime": {
     "end_time": "2023-06-27T01:07:33.142270486Z",
     "start_time": "2023-06-27T01:07:16.525666328Z"
    }
   },
   "outputs": [
    {
     "data": {
      "application/vnd.jupyter.widget-view+json": {
       "model_id": "e218f44f84ee4c39afb82807e9015da5",
       "version_major": 2,
       "version_minor": 0
      },
      "text/plain": [
       "  0%|          | 0/700 [00:00<?, ?it/s]"
      ]
     },
     "metadata": {},
     "output_type": "display_data"
    },
    {
     "name": "stdout",
     "output_type": "stream",
     "text": [
      "MLP 92861.1640625\n"
     ]
    },
    {
     "data": {
      "application/vnd.jupyter.widget-view+json": {
       "model_id": "2f9c55c5f16b47daa0f764388f887474",
       "version_major": 2,
       "version_minor": 0
      },
      "text/plain": [
       "  0%|          | 0/700 [00:00<?, ?it/s]"
      ]
     },
     "metadata": {},
     "output_type": "display_data"
    },
    {
     "name": "stdout",
     "output_type": "stream",
     "text": [
      "MLPReLU6 209992.859375\n"
     ]
    },
    {
     "data": {
      "application/vnd.jupyter.widget-view+json": {
       "model_id": "cd53f5e64d464706b3fa5475064bb0b5",
       "version_major": 2,
       "version_minor": 0
      },
      "text/plain": [
       "  0%|          | 0/700 [00:00<?, ?it/s]"
      ]
     },
     "metadata": {},
     "output_type": "display_data"
    },
    {
     "name": "stdout",
     "output_type": "stream",
     "text": [
      "NAC 355227.03125\n"
     ]
    },
    {
     "data": {
      "application/vnd.jupyter.widget-view+json": {
       "model_id": "bc66c1269a8e426c985d0bfb2436bb95",
       "version_major": 2,
       "version_minor": 0
      },
      "text/plain": [
       "  0%|          | 0/700 [00:00<?, ?it/s]"
      ]
     },
     "metadata": {},
     "output_type": "display_data"
    },
    {
     "name": "stdout",
     "output_type": "stream",
     "text": [
      "NALU 129.38681030273438\n"
     ]
    },
    {
     "data": {
      "application/vnd.jupyter.widget-view+json": {
       "model_id": "c359ecfafd87483f99e0d41aa07f8ef2",
       "version_major": 2,
       "version_minor": 0
      },
      "text/plain": [
       "  0%|          | 0/700 [00:00<?, ?it/s]"
      ]
     },
     "metadata": {},
     "output_type": "display_data"
    },
    {
     "name": "stdout",
     "output_type": "stream",
     "text": [
      "INALU 0.20869147777557373\n"
     ]
    }
   ],
   "source": [
    "res = check_function('squared', generate_data_extrapolation)\n",
    "extr_results.append(res)"
   ]
  },
  {
   "cell_type": "code",
   "execution_count": 38,
   "metadata": {},
   "outputs": [
    {
     "data": {
      "application/vnd.jupyter.widget-view+json": {
       "model_id": "c1d5e9c26daf469a8a5a547d652758f3",
       "version_major": 2,
       "version_minor": 0
      },
      "text/plain": [
       "  0%|          | 0/700 [00:00<?, ?it/s]"
      ]
     },
     "metadata": {},
     "output_type": "display_data"
    },
    {
     "name": "stdout",
     "output_type": "stream",
     "text": [
      "MLP 1.454134464263916\n"
     ]
    },
    {
     "data": {
      "application/vnd.jupyter.widget-view+json": {
       "model_id": "8e154b85df1d47f282e91b6a4ad3528d",
       "version_major": 2,
       "version_minor": 0
      },
      "text/plain": [
       "  0%|          | 0/700 [00:00<?, ?it/s]"
      ]
     },
     "metadata": {},
     "output_type": "display_data"
    },
    {
     "name": "stdout",
     "output_type": "stream",
     "text": [
      "MLPReLU6 0.20828643441200256\n"
     ]
    },
    {
     "data": {
      "application/vnd.jupyter.widget-view+json": {
       "model_id": "48e5eb9722a3458696bd038229f3691c",
       "version_major": 2,
       "version_minor": 0
      },
      "text/plain": [
       "  0%|          | 0/700 [00:00<?, ?it/s]"
      ]
     },
     "metadata": {},
     "output_type": "display_data"
    },
    {
     "name": "stdout",
     "output_type": "stream",
     "text": [
      "NAC 5.972806453704834\n"
     ]
    },
    {
     "data": {
      "application/vnd.jupyter.widget-view+json": {
       "model_id": "f325b0082a6a4aed937e4b98ec4d2998",
       "version_major": 2,
       "version_minor": 0
      },
      "text/plain": [
       "  0%|          | 0/700 [00:00<?, ?it/s]"
      ]
     },
     "metadata": {},
     "output_type": "display_data"
    },
    {
     "name": "stdout",
     "output_type": "stream",
     "text": [
      "NALU 0.007435419596731663\n"
     ]
    },
    {
     "data": {
      "application/vnd.jupyter.widget-view+json": {
       "model_id": "0caae33ffeb348b4923811d906a51dd6",
       "version_major": 2,
       "version_minor": 0
      },
      "text/plain": [
       "  0%|          | 0/700 [00:00<?, ?it/s]"
      ]
     },
     "metadata": {},
     "output_type": "display_data"
    },
    {
     "name": "stdout",
     "output_type": "stream",
     "text": [
      "INALU 3.025660276412964\n"
     ]
    }
   ],
   "source": [
    "res = check_function('root', generate_data_extrapolation)\n",
    "extr_results.append(res)"
   ]
  },
  {
   "cell_type": "code",
   "execution_count": 30,
   "metadata": {
    "ExecuteTime": {
     "end_time": "2023-06-26T23:40:57.627435149Z",
     "start_time": "2023-06-26T23:40:57.614554809Z"
    }
   },
   "outputs": [],
   "source": [
    "import numpy as np\n",
    "\n",
    "interp_results = np.array(interp_results).T\n",
    "extr_results = np.array(extr_results).T\n",
    "\n",
    "pd.set_option('display.float_format', lambda x: '%.3f' % x)\n",
    "df = pd.DataFrame({'Function': ARITHMETIC_FUNCTIONS.keys(),\n",
    "                   'INTERPOLATION_MLP': interp_results[0],\n",
    "                   'INTERPOLATION_MLP_ReLU6': interp_results[1],\n",
    "                   'INTERPOLATION_NAC': interp_results[2],\n",
    "                   'INTERPOLATION_NALU': interp_results[3],\n",
    "                   'INTERPOLATION_INALU': interp_results[4],\n",
    "                   'EXTRAPOLATION_MLP': extr_results[0],\n",
    "                   'EXTRAPOLATION_MLP_ReLU6': extr_results[1],\n",
    "                   'EXTRAPOLATION_NAC': extr_results[2],\n",
    "                   'EXTRAPOLATION_NALU': extr_results[3],\n",
    "                   'EXTRAPOLATION_INALU': extr_results[4]\n",
    "                   })\n",
    "\n",
    "df.to_csv('raw_nalu_check_results.csv')\n",
    "# df = pd.read_csv('raw_nalu_check_results.csv')\n",
    "df_inter = df[['Function', 'INTERPOLATION_MLP', 'INTERPOLATION_MLP_ReLU6', 'INTERPOLATION_NAC', 'INTERPOLATION_NALU', 'INTERPOLATION_INALU']]\n",
    "df_extr = df[['Function', 'EXTRAPOLATION_MLP', 'EXTRAPOLATION_MLP_ReLU6', 'EXTRAPOLATION_NAC', 'EXTRAPOLATION_NALU', 'EXTRAPOLATION_INALU']]"
   ]
  },
  {
   "cell_type": "code",
   "execution_count": 31,
   "metadata": {
    "ExecuteTime": {
     "end_time": "2023-06-26T23:41:04.148592765Z",
     "start_time": "2023-06-26T23:41:04.141507244Z"
    }
   },
   "outputs": [
    {
     "data": {
      "text/html": [
       "<div>\n",
       "<style scoped>\n",
       "    .dataframe tbody tr th:only-of-type {\n",
       "        vertical-align: middle;\n",
       "    }\n",
       "\n",
       "    .dataframe tbody tr th {\n",
       "        vertical-align: top;\n",
       "    }\n",
       "\n",
       "    .dataframe thead th {\n",
       "        text-align: right;\n",
       "    }\n",
       "</style>\n",
       "<table border=\"1\" class=\"dataframe\">\n",
       "  <thead>\n",
       "    <tr style=\"text-align: right;\">\n",
       "      <th></th>\n",
       "      <th>Function</th>\n",
       "      <th>INTERPOLATION_MLP</th>\n",
       "      <th>INTERPOLATION_MLP_ReLU6</th>\n",
       "      <th>INTERPOLATION_NAC</th>\n",
       "      <th>INTERPOLATION_NALU</th>\n",
       "      <th>INTERPOLATION_INALU</th>\n",
       "    </tr>\n",
       "  </thead>\n",
       "  <tbody>\n",
       "    <tr>\n",
       "      <th>0</th>\n",
       "      <td>add</td>\n",
       "      <td>0.000</td>\n",
       "      <td>0.706</td>\n",
       "      <td>0.000</td>\n",
       "      <td>1.154</td>\n",
       "      <td>0.002</td>\n",
       "    </tr>\n",
       "    <tr>\n",
       "      <th>1</th>\n",
       "      <td>sub</td>\n",
       "      <td>0.000</td>\n",
       "      <td>0.040</td>\n",
       "      <td>0.000</td>\n",
       "      <td>10.488</td>\n",
       "      <td>0.001</td>\n",
       "    </tr>\n",
       "    <tr>\n",
       "      <th>2</th>\n",
       "      <td>mul</td>\n",
       "      <td>5548.128</td>\n",
       "      <td>16035.532</td>\n",
       "      <td>15436.111</td>\n",
       "      <td>852.943</td>\n",
       "      <td>0.002</td>\n",
       "    </tr>\n",
       "    <tr>\n",
       "      <th>3</th>\n",
       "      <td>mul_neg</td>\n",
       "      <td>8699.712</td>\n",
       "      <td>8212.141</td>\n",
       "      <td>26616.609</td>\n",
       "      <td>3232.187</td>\n",
       "      <td>1.607</td>\n",
       "    </tr>\n",
       "    <tr>\n",
       "      <th>4</th>\n",
       "      <td>div</td>\n",
       "      <td>82.718</td>\n",
       "      <td>17.342</td>\n",
       "      <td>86.124</td>\n",
       "      <td>67.852</td>\n",
       "      <td>82.262</td>\n",
       "    </tr>\n",
       "    <tr>\n",
       "      <th>5</th>\n",
       "      <td>squared</td>\n",
       "      <td>24634.008</td>\n",
       "      <td>7722.872</td>\n",
       "      <td>121214.461</td>\n",
       "      <td>1289.329</td>\n",
       "      <td>0.002</td>\n",
       "    </tr>\n",
       "    <tr>\n",
       "      <th>6</th>\n",
       "      <td>root</td>\n",
       "      <td>0.157</td>\n",
       "      <td>0.068</td>\n",
       "      <td>0.951</td>\n",
       "      <td>0.000</td>\n",
       "      <td>0.160</td>\n",
       "    </tr>\n",
       "  </tbody>\n",
       "</table>\n",
       "</div>"
      ],
      "text/plain": [
       "  Function  INTERPOLATION_MLP  INTERPOLATION_MLP_ReLU6  INTERPOLATION_NAC  \\\n",
       "0      add              0.000                    0.706              0.000   \n",
       "1      sub              0.000                    0.040              0.000   \n",
       "2      mul           5548.128                16035.532          15436.111   \n",
       "3  mul_neg           8699.712                 8212.141          26616.609   \n",
       "4      div             82.718                   17.342             86.124   \n",
       "5  squared          24634.008                 7722.872         121214.461   \n",
       "6     root              0.157                    0.068              0.951   \n",
       "\n",
       "   INTERPOLATION_NALU  INTERPOLATION_INALU  \n",
       "0               1.154                0.002  \n",
       "1              10.488                0.001  \n",
       "2             852.943                0.002  \n",
       "3            3232.187                1.607  \n",
       "4              67.852               82.262  \n",
       "5            1289.329                0.002  \n",
       "6               0.000                0.160  "
      ]
     },
     "execution_count": 31,
     "metadata": {},
     "output_type": "execute_result"
    }
   ],
   "source": [
    "df_inter"
   ]
  },
  {
   "cell_type": "code",
   "execution_count": 32,
   "metadata": {
    "ExecuteTime": {
     "end_time": "2023-06-26T21:16:16.226197133Z",
     "start_time": "2023-06-26T21:16:16.217214341Z"
    }
   },
   "outputs": [
    {
     "data": {
      "text/html": [
       "<div>\n",
       "<style scoped>\n",
       "    .dataframe tbody tr th:only-of-type {\n",
       "        vertical-align: middle;\n",
       "    }\n",
       "\n",
       "    .dataframe tbody tr th {\n",
       "        vertical-align: top;\n",
       "    }\n",
       "\n",
       "    .dataframe thead th {\n",
       "        text-align: right;\n",
       "    }\n",
       "</style>\n",
       "<table border=\"1\" class=\"dataframe\">\n",
       "  <thead>\n",
       "    <tr style=\"text-align: right;\">\n",
       "      <th></th>\n",
       "      <th>Function</th>\n",
       "      <th>EXTRAPOLATION_MLP</th>\n",
       "      <th>EXTRAPOLATION_MLP_ReLU6</th>\n",
       "      <th>EXTRAPOLATION_NAC</th>\n",
       "      <th>EXTRAPOLATION_NALU</th>\n",
       "      <th>EXTRAPOLATION_INALU</th>\n",
       "    </tr>\n",
       "  </thead>\n",
       "  <tbody>\n",
       "    <tr>\n",
       "      <th>0</th>\n",
       "      <td>add</td>\n",
       "      <td>0.000</td>\n",
       "      <td>43.489</td>\n",
       "      <td>0.000</td>\n",
       "      <td>17.862</td>\n",
       "      <td>0.001</td>\n",
       "    </tr>\n",
       "    <tr>\n",
       "      <th>1</th>\n",
       "      <td>sub</td>\n",
       "      <td>0.000</td>\n",
       "      <td>8.873</td>\n",
       "      <td>0.000</td>\n",
       "      <td>35.971</td>\n",
       "      <td>0.000</td>\n",
       "    </tr>\n",
       "    <tr>\n",
       "      <th>2</th>\n",
       "      <td>mul</td>\n",
       "      <td>71244.930</td>\n",
       "      <td>54325.223</td>\n",
       "      <td>74272.195</td>\n",
       "      <td>33298.887</td>\n",
       "      <td>0.000</td>\n",
       "    </tr>\n",
       "    <tr>\n",
       "      <th>3</th>\n",
       "      <td>mul_neg</td>\n",
       "      <td>49386.301</td>\n",
       "      <td>36491.500</td>\n",
       "      <td>75911.430</td>\n",
       "      <td>19887.525</td>\n",
       "      <td>0.000</td>\n",
       "    </tr>\n",
       "    <tr>\n",
       "      <th>4</th>\n",
       "      <td>div</td>\n",
       "      <td>1343.953</td>\n",
       "      <td>1373.087</td>\n",
       "      <td>1347.363</td>\n",
       "      <td>1392.421</td>\n",
       "      <td>1295.387</td>\n",
       "    </tr>\n",
       "    <tr>\n",
       "      <th>5</th>\n",
       "      <td>squared</td>\n",
       "      <td>92861.164</td>\n",
       "      <td>209992.859</td>\n",
       "      <td>355227.031</td>\n",
       "      <td>129.387</td>\n",
       "      <td>0.209</td>\n",
       "    </tr>\n",
       "    <tr>\n",
       "      <th>6</th>\n",
       "      <td>root</td>\n",
       "      <td>1.454</td>\n",
       "      <td>0.208</td>\n",
       "      <td>5.973</td>\n",
       "      <td>0.007</td>\n",
       "      <td>3.026</td>\n",
       "    </tr>\n",
       "  </tbody>\n",
       "</table>\n",
       "</div>"
      ],
      "text/plain": [
       "  Function  EXTRAPOLATION_MLP  EXTRAPOLATION_MLP_ReLU6  EXTRAPOLATION_NAC  \\\n",
       "0      add              0.000                   43.489              0.000   \n",
       "1      sub              0.000                    8.873              0.000   \n",
       "2      mul          71244.930                54325.223          74272.195   \n",
       "3  mul_neg          49386.301                36491.500          75911.430   \n",
       "4      div           1343.953                 1373.087           1347.363   \n",
       "5  squared          92861.164               209992.859         355227.031   \n",
       "6     root              1.454                    0.208              5.973   \n",
       "\n",
       "   EXTRAPOLATION_NALU  EXTRAPOLATION_INALU  \n",
       "0              17.862                0.001  \n",
       "1              35.971                0.000  \n",
       "2           33298.887                0.000  \n",
       "3           19887.525                0.000  \n",
       "4            1392.421             1295.387  \n",
       "5             129.387                0.209  \n",
       "6               0.007                3.026  "
      ]
     },
     "execution_count": 32,
     "metadata": {},
     "output_type": "execute_result"
    }
   ],
   "source": [
    "df_extr"
   ]
  },
  {
   "cell_type": "code",
   "execution_count": 36,
   "metadata": {
    "ExecuteTime": {
     "end_time": "2023-06-26T21:16:31.054649907Z",
     "start_time": "2023-06-26T21:16:28.579169277Z"
    }
   },
   "outputs": [],
   "source": [
    "import torch.nn.functional as F\n",
    "\n",
    "def mean_random_mse(generator):\n",
    "    mses = []\n",
    "    for func_name, func in ARITHMETIC_FUNCTIONS.items():\n",
    "        arr = []\n",
    "        data = generator(func)\n",
    "        dataset_train = SyntheticDataset(data[0], data[1])\n",
    "        dataset_test = SyntheticDataset(data[2], data[3])\n",
    "        train_loader = DataLoader(dataset_train, batch_size=64, shuffle=True)\n",
    "        test_loader = DataLoader(dataset_test, batch_size=64, shuffle=True)\n",
    "        for _ in range(100):\n",
    "            running_loss = 0.\n",
    "            for input, target in test_loader:\n",
    "                input = input.to(DEVICE)\n",
    "                target = target.to(DEVICE)\n",
    "                model = MLP().to(DEVICE)\n",
    "                out = model(input)\n",
    "                running_loss += F.mse_loss(out, target).item() * input.size(0)\n",
    "            arr.append(running_loss / len(test_loader.dataset))\n",
    "        mses.append(np.mean(arr))\n",
    "    return mses\n",
    "\n",
    "mses_interp = mean_random_mse(generate_data_interpolation)\n",
    "mses_extr = mean_random_mse(generate_data_extrapolation)"
   ]
  },
  {
   "cell_type": "code",
   "execution_count": 39,
   "metadata": {
    "ExecuteTime": {
     "end_time": "2023-06-26T21:16:44.317361098Z",
     "start_time": "2023-06-26T21:16:44.301107811Z"
    }
   },
   "outputs": [],
   "source": [
    "for i, scale in enumerate(mses_interp):\n",
    "    for key in ['INTERPOLATION_MLP', 'INTERPOLATION_MLP_ReLU6', 'INTERPOLATION_NAC', 'INTERPOLATION_NALU', 'INTERPOLATION_INALU']:\n",
    "        df_inter.at[i, key] = 100. * df_inter[key][i] / scale\n",
    "\n",
    "for i, scale in enumerate(mses_extr):\n",
    "    for key in ['EXTRAPOLATION_MLP', 'EXTRAPOLATION_MLP_ReLU6', 'EXTRAPOLATION_NAC', 'EXTRAPOLATION_NALU', 'EXTRAPOLATION_INALU']:\n",
    "        df_extr.at[i, key] = 100. * df_extr[key][i] / scale"
   ]
  },
  {
   "cell_type": "code",
   "execution_count": 40,
   "metadata": {
    "ExecuteTime": {
     "end_time": "2023-06-26T21:16:45.311747854Z",
     "start_time": "2023-06-26T21:16:45.304294700Z"
    }
   },
   "outputs": [
    {
     "data": {
      "text/html": [
       "<div>\n",
       "<style scoped>\n",
       "    .dataframe tbody tr th:only-of-type {\n",
       "        vertical-align: middle;\n",
       "    }\n",
       "\n",
       "    .dataframe tbody tr th {\n",
       "        vertical-align: top;\n",
       "    }\n",
       "\n",
       "    .dataframe thead th {\n",
       "        text-align: right;\n",
       "    }\n",
       "</style>\n",
       "<table border=\"1\" class=\"dataframe\">\n",
       "  <thead>\n",
       "    <tr style=\"text-align: right;\">\n",
       "      <th></th>\n",
       "      <th>Function</th>\n",
       "      <th>INTERPOLATION_MLP</th>\n",
       "      <th>INTERPOLATION_MLP_ReLU6</th>\n",
       "      <th>INTERPOLATION_NAC</th>\n",
       "      <th>INTERPOLATION_NALU</th>\n",
       "      <th>INTERPOLATION_INALU</th>\n",
       "    </tr>\n",
       "  </thead>\n",
       "  <tbody>\n",
       "    <tr>\n",
       "      <th>0</th>\n",
       "      <td>add</td>\n",
       "      <td>0.000</td>\n",
       "      <td>0.064</td>\n",
       "      <td>0.000</td>\n",
       "      <td>0.104</td>\n",
       "      <td>0.000</td>\n",
       "    </tr>\n",
       "    <tr>\n",
       "      <th>1</th>\n",
       "      <td>sub</td>\n",
       "      <td>0.000</td>\n",
       "      <td>0.018</td>\n",
       "      <td>0.000</td>\n",
       "      <td>4.697</td>\n",
       "      <td>0.001</td>\n",
       "    </tr>\n",
       "    <tr>\n",
       "      <th>2</th>\n",
       "      <td>mul</td>\n",
       "      <td>40.175</td>\n",
       "      <td>116.116</td>\n",
       "      <td>111.775</td>\n",
       "      <td>6.176</td>\n",
       "      <td>0.000</td>\n",
       "    </tr>\n",
       "    <tr>\n",
       "      <th>3</th>\n",
       "      <td>mul_neg</td>\n",
       "      <td>17.676</td>\n",
       "      <td>16.685</td>\n",
       "      <td>54.079</td>\n",
       "      <td>6.567</td>\n",
       "      <td>0.003</td>\n",
       "    </tr>\n",
       "    <tr>\n",
       "      <th>4</th>\n",
       "      <td>div</td>\n",
       "      <td>73.904</td>\n",
       "      <td>15.494</td>\n",
       "      <td>76.946</td>\n",
       "      <td>60.621</td>\n",
       "      <td>73.496</td>\n",
       "    </tr>\n",
       "    <tr>\n",
       "      <th>5</th>\n",
       "      <td>squared</td>\n",
       "      <td>13.338</td>\n",
       "      <td>4.182</td>\n",
       "      <td>65.633</td>\n",
       "      <td>0.698</td>\n",
       "      <td>0.000</td>\n",
       "    </tr>\n",
       "    <tr>\n",
       "      <th>6</th>\n",
       "      <td>root</td>\n",
       "      <td>0.319</td>\n",
       "      <td>0.139</td>\n",
       "      <td>1.940</td>\n",
       "      <td>0.000</td>\n",
       "      <td>0.327</td>\n",
       "    </tr>\n",
       "  </tbody>\n",
       "</table>\n",
       "</div>"
      ],
      "text/plain": [
       "  Function  INTERPOLATION_MLP  INTERPOLATION_MLP_ReLU6  INTERPOLATION_NAC  \\\n",
       "0      add              0.000                    0.064              0.000   \n",
       "1      sub              0.000                    0.018              0.000   \n",
       "2      mul             40.175                  116.116            111.775   \n",
       "3  mul_neg             17.676                   16.685             54.079   \n",
       "4      div             73.904                   15.494             76.946   \n",
       "5  squared             13.338                    4.182             65.633   \n",
       "6     root              0.319                    0.139              1.940   \n",
       "\n",
       "   INTERPOLATION_NALU  INTERPOLATION_INALU  \n",
       "0               0.104                0.000  \n",
       "1               4.697                0.001  \n",
       "2               6.176                0.000  \n",
       "3               6.567                0.003  \n",
       "4              60.621               73.496  \n",
       "5               0.698                0.000  \n",
       "6               0.000                0.327  "
      ]
     },
     "execution_count": 40,
     "metadata": {},
     "output_type": "execute_result"
    }
   ],
   "source": [
    "df_inter"
   ]
  },
  {
   "cell_type": "code",
   "execution_count": 41,
   "metadata": {
    "ExecuteTime": {
     "end_time": "2023-06-26T21:16:46.405048651Z",
     "start_time": "2023-06-26T21:16:46.400529421Z"
    }
   },
   "outputs": [
    {
     "data": {
      "text/html": [
       "<div>\n",
       "<style scoped>\n",
       "    .dataframe tbody tr th:only-of-type {\n",
       "        vertical-align: middle;\n",
       "    }\n",
       "\n",
       "    .dataframe tbody tr th {\n",
       "        vertical-align: top;\n",
       "    }\n",
       "\n",
       "    .dataframe thead th {\n",
       "        text-align: right;\n",
       "    }\n",
       "</style>\n",
       "<table border=\"1\" class=\"dataframe\">\n",
       "  <thead>\n",
       "    <tr style=\"text-align: right;\">\n",
       "      <th></th>\n",
       "      <th>Function</th>\n",
       "      <th>EXTRAPOLATION_MLP</th>\n",
       "      <th>EXTRAPOLATION_MLP_ReLU6</th>\n",
       "      <th>EXTRAPOLATION_NAC</th>\n",
       "      <th>EXTRAPOLATION_NALU</th>\n",
       "      <th>EXTRAPOLATION_INALU</th>\n",
       "    </tr>\n",
       "  </thead>\n",
       "  <tbody>\n",
       "    <tr>\n",
       "      <th>0</th>\n",
       "      <td>add</td>\n",
       "      <td>0.000</td>\n",
       "      <td>4.593</td>\n",
       "      <td>0.000</td>\n",
       "      <td>1.886</td>\n",
       "      <td>0.000</td>\n",
       "    </tr>\n",
       "    <tr>\n",
       "      <th>1</th>\n",
       "      <td>sub</td>\n",
       "      <td>0.000</td>\n",
       "      <td>2.077</td>\n",
       "      <td>0.000</td>\n",
       "      <td>8.420</td>\n",
       "      <td>0.000</td>\n",
       "    </tr>\n",
       "    <tr>\n",
       "      <th>2</th>\n",
       "      <td>mul</td>\n",
       "      <td>47.831</td>\n",
       "      <td>36.472</td>\n",
       "      <td>49.863</td>\n",
       "      <td>22.355</td>\n",
       "      <td>0.000</td>\n",
       "    </tr>\n",
       "    <tr>\n",
       "      <th>3</th>\n",
       "      <td>mul_neg</td>\n",
       "      <td>52.859</td>\n",
       "      <td>39.058</td>\n",
       "      <td>81.250</td>\n",
       "      <td>21.286</td>\n",
       "      <td>0.000</td>\n",
       "    </tr>\n",
       "    <tr>\n",
       "      <th>4</th>\n",
       "      <td>div</td>\n",
       "      <td>227.030</td>\n",
       "      <td>231.952</td>\n",
       "      <td>227.607</td>\n",
       "      <td>235.218</td>\n",
       "      <td>218.826</td>\n",
       "    </tr>\n",
       "    <tr>\n",
       "      <th>5</th>\n",
       "      <td>squared</td>\n",
       "      <td>34.425</td>\n",
       "      <td>77.848</td>\n",
       "      <td>131.688</td>\n",
       "      <td>0.048</td>\n",
       "      <td>0.000</td>\n",
       "    </tr>\n",
       "    <tr>\n",
       "      <th>6</th>\n",
       "      <td>root</td>\n",
       "      <td>1.986</td>\n",
       "      <td>0.284</td>\n",
       "      <td>8.158</td>\n",
       "      <td>0.010</td>\n",
       "      <td>4.132</td>\n",
       "    </tr>\n",
       "  </tbody>\n",
       "</table>\n",
       "</div>"
      ],
      "text/plain": [
       "  Function  EXTRAPOLATION_MLP  EXTRAPOLATION_MLP_ReLU6  EXTRAPOLATION_NAC  \\\n",
       "0      add              0.000                    4.593              0.000   \n",
       "1      sub              0.000                    2.077              0.000   \n",
       "2      mul             47.831                   36.472             49.863   \n",
       "3  mul_neg             52.859                   39.058             81.250   \n",
       "4      div            227.030                  231.952            227.607   \n",
       "5  squared             34.425                   77.848            131.688   \n",
       "6     root              1.986                    0.284              8.158   \n",
       "\n",
       "   EXTRAPOLATION_NALU  EXTRAPOLATION_INALU  \n",
       "0               1.886                0.000  \n",
       "1               8.420                0.000  \n",
       "2              22.355                0.000  \n",
       "3              21.286                0.000  \n",
       "4             235.218              218.826  \n",
       "5               0.048                0.000  \n",
       "6               0.010                4.132  "
      ]
     },
     "execution_count": 41,
     "metadata": {},
     "output_type": "execute_result"
    }
   ],
   "source": [
    "df_extr"
   ]
  },
  {
   "cell_type": "code",
   "execution_count": 42,
   "metadata": {},
   "outputs": [],
   "source": [
    "df_inter.to_csv('scaled_interp_check_results.csv')\n",
    "df_extr.to_csv('scaled_extr_check_results.csv')"
   ]
  },
  {
   "cell_type": "code",
   "execution_count": null,
   "metadata": {},
   "outputs": [],
   "source": []
  }
 ],
 "metadata": {
  "kernelspec": {
   "display_name": "Python 3 (ipykernel)",
   "language": "python",
   "name": "python3"
  },
  "language_info": {
   "codemirror_mode": {
    "name": "ipython",
    "version": 3
   },
   "file_extension": ".py",
   "mimetype": "text/x-python",
   "name": "python",
   "nbconvert_exporter": "python",
   "pygments_lexer": "ipython3",
   "version": "3.8.10"
  }
 },
 "nbformat": 4,
 "nbformat_minor": 1
}
